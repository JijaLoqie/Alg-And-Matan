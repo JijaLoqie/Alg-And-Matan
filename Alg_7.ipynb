{
  "nbformat": 4,
  "nbformat_minor": 0,
  "metadata": {
    "kernelspec": {
      "display_name": "Python 3",
      "language": "python",
      "name": "python3"
    },
    "language_info": {
      "codemirror_mode": {
        "name": "ipython",
        "version": 3
      },
      "file_extension": ".py",
      "mimetype": "text/x-python",
      "name": "python",
      "nbconvert_exporter": "python",
      "pygments_lexer": "ipython3",
      "version": "3.7.3"
    },
    "colab": {
      "name": "Красковский_БПИ201_Alg_7.ipynb",
      "provenance": [],
      "collapsed_sections": [],
      "toc_visible": true
    }
  },
  "cells": [
    {
      "cell_type": "code",
      "metadata": {
        "id": "Ywnk-6RU8ilY"
      },
      "source": [
        "import sympy\n",
        "from sympy import  Point, Line, Plane, Point3D, solve, solveset"
      ],
      "execution_count": null,
      "outputs": []
    },
    {
      "cell_type": "markdown",
      "metadata": {
        "id": "lJSGczNt8ilf"
      },
      "source": [
        "# Лабораторная работа 7\n",
        "# Алгебра\n",
        "https://docs.sympy.org/latest/search.html?q=geometry\n",
        "\n",
        "## Прямые и плоскости в пространстве. Модуль Geometry\n",
        "### Задание 1.\n",
        "Даны точки: $A(3, -2, 3)$,  $B(-2, 3, 1)$, $C(1, -8, 6)$, $D(1, 2, 4)$, $F(-7, 8, -1)$.\n",
        "\n",
        "Проверить, различны ли прямые $AB$ и $AF$, $BC$ и $CD$, $ABC$ и $ACF$, $ABC$ и $ACD$. "
      ]
    },
    {
      "cell_type": "code",
      "metadata": {
        "id": "g8-vn24M8ilh",
        "colab": {
          "base_uri": "https://localhost:8080/",
          "height": 85
        },
        "outputId": "8a51ab06-38a2-4d4b-bd26-ff402f4cbbf2"
      },
      "source": [
        "A = Point(3,-2, 3)\r\n",
        "B = Point(-2, 3, 1)\r\n",
        "C = Point(1, -8, 6)\r\n",
        "D = Point(1,2, 4)\r\n",
        "F = Point(-7,8, -1)\r\n",
        "AB = Line(A, B)\r\n",
        "AF = Line(A, F)\r\n",
        "BC = Line(B, C)\r\n",
        "CD = Line(C, D)\r\n",
        "ABC = Plane(A, B, C)\r\n",
        "ACF = Plane(A, C, F)\r\n",
        "ACD = Plane(A, C, D)\r\n",
        "\r\n",
        "display(AB.equals(AF), BC.equals(CD))\r\n",
        "display(ABC.equals(ACF), ABC.equals(ACD))"
      ],
      "execution_count": null,
      "outputs": [
        {
          "output_type": "display_data",
          "data": {
            "text/plain": [
              "True"
            ]
          },
          "metadata": {
            "tags": []
          }
        },
        {
          "output_type": "display_data",
          "data": {
            "text/plain": [
              "False"
            ]
          },
          "metadata": {
            "tags": []
          }
        },
        {
          "output_type": "display_data",
          "data": {
            "text/plain": [
              "True"
            ]
          },
          "metadata": {
            "tags": []
          }
        },
        {
          "output_type": "display_data",
          "data": {
            "text/plain": [
              "False"
            ]
          },
          "metadata": {
            "tags": []
          }
        }
      ]
    },
    {
      "cell_type": "markdown",
      "metadata": {
        "id": "icO3oGv_8ilh"
      },
      "source": [
        "###  Задание 2\n",
        "Вывести на экран уравнение обеих биссектрис двугранных углов, образованных при пересечении плоскостей АВС и АСD.\n",
        "\n",
        "Указание: расстояние от любой точки на биссектрисе до каждой из плоскостей АВС и АСD одинаково, полученное из этого уравнение описывает обе биссектрисы, упрощать его не нужно."
      ]
    },
    {
      "cell_type": "code",
      "metadata": {
        "id": "UBQt66YvId-a"
      },
      "source": [
        ""
      ],
      "execution_count": null,
      "outputs": []
    },
    {
      "cell_type": "code",
      "metadata": {
        "id": "iv-Ec74W8ili",
        "colab": {
          "base_uri": "https://localhost:8080/",
          "height": 34
        },
        "outputId": "c883acd2-31cb-4a87-8ad6-7377388976d0"
      },
      "source": [
        "display(sympy.Eq((ABC.equation() + ACD.equation())/2, 0))"
      ],
      "execution_count": null,
      "outputs": [
        {
          "output_type": "display_data",
          "data": {
            "text/plain": [
              "Eq(-15*x/2 + 15*y/2 + 10*z + 15/2, 0)"
            ]
          },
          "metadata": {
            "tags": []
          }
        }
      ]
    },
    {
      "cell_type": "markdown",
      "metadata": {
        "id": "WbVBYka78ili"
      },
      "source": [
        "###  Задание 3\n",
        "Построить плоскость, перпендикулярную плоскости АВС, проходящую через D и начало координат. Найти линию пересечения АВС и этой плоскости."
      ]
    },
    {
      "cell_type": "code",
      "metadata": {
        "id": "HSyqDLNd8ilj",
        "colab": {
          "base_uri": "https://localhost:8080/",
          "height": 51
        },
        "outputId": "f209a279-b443-4e4f-f454-276d454fa20a"
      },
      "source": [
        "O = Point(0,0,0)\r\n",
        "newP = ABC.perpendicular_plane(O, D)\r\n",
        "\r\n",
        "newL = ABC.intersection(newP)\r\n",
        "\r\n",
        "display(newP.equation(), ABC.intersection(newP)[0])"
      ],
      "execution_count": null,
      "outputs": [
        {
          "output_type": "display_data",
          "data": {
            "text/plain": [
              "4*x - 28*y + 13*z"
            ]
          },
          "metadata": {
            "tags": []
          }
        },
        {
          "output_type": "display_data",
          "data": {
            "text/plain": [
              "Line3D(Point3D(637/40, 91/40, 0), Point3D(55317/40, 4931/40, -160))"
            ]
          },
          "metadata": {
            "tags": []
          }
        }
      ]
    },
    {
      "cell_type": "markdown",
      "metadata": {
        "id": "F_fcNTe18ilj"
      },
      "source": [
        "###  Задание 4\n",
        "Найти пересечение плоскости АВС и прямой DK, где K(3,-2, 3)."
      ]
    },
    {
      "cell_type": "code",
      "metadata": {
        "id": "aeRKq1gp8ilk",
        "colab": {
          "base_uri": "https://localhost:8080/",
          "height": 34
        },
        "outputId": "6f68f5af-a076-4e85-ab46-fdf34e234136"
      },
      "source": [
        "K = Point(3, -2, 3)\r\n",
        "DK = Line(D, K)\r\n",
        "newPoint = ABC.intersection(DK)[0]\r\n",
        "display(newPoint)"
      ],
      "execution_count": null,
      "outputs": [
        {
          "output_type": "display_data",
          "data": {
            "text/plain": [
              "Point3D(3, -2, 3)"
            ]
          },
          "metadata": {
            "tags": []
          }
        }
      ]
    },
    {
      "cell_type": "markdown",
      "metadata": {
        "id": "ViEf9a228ilk"
      },
      "source": [
        "###  Задание 5\n",
        "Проверить, что точка пересечения из Задания 4 лежит в плоскости AFC."
      ]
    },
    {
      "cell_type": "code",
      "metadata": {
        "id": "Cs8u96RK8ilk",
        "colab": {
          "base_uri": "https://localhost:8080/",
          "height": 34
        },
        "outputId": "337ca93b-4add-4186-9c57-191f9fdbd691"
      },
      "source": [
        "display(Point3D.are_coplanar(A, F, C, newPoint))"
      ],
      "execution_count": null,
      "outputs": [
        {
          "output_type": "display_data",
          "data": {
            "text/plain": [
              "True"
            ]
          },
          "metadata": {
            "tags": []
          }
        }
      ]
    },
    {
      "cell_type": "markdown",
      "metadata": {
        "id": "SDTyx0iS8ill"
      },
      "source": [
        "###  Задание 6\n",
        "Даны точки: A(3, -2, 3),  B(-2, 3, 1), C(1, -8, 6), D(1, 2, 4), F(-7, 8, -1).\n",
        "\n",
        "Составить словарь всех прямых (в нем должны быть и прямая АВ, и ВА!), каждая из которых проходит хотя бы через две заданные точки, ключ - сама прямая (Line), значение - список из имен ВСЕХ точек, лежащих на этой прямой. Вывести на экран имена только тех прямых, на которых лежит не менее трех точек из условия, а также список точек, лежащих на прямой."
      ]
    },
    {
      "cell_type": "code",
      "metadata": {
        "id": "qyPkreOU8ill",
        "colab": {
          "base_uri": "https://localhost:8080/"
        },
        "outputId": "d9d759c7-603b-46b4-9db0-1cc02b30f39d"
      },
      "source": [
        "\r\n",
        "PlistName = ['A', 'B', 'C', 'D', 'F']\r\n",
        "Plist = [A,B,C,D,F]\r\n",
        "Pmap = dict()\r\n",
        "for i in range(len(Plist)):\r\n",
        "  for j in range(len(Plist)):\r\n",
        "    if i == j:\r\n",
        "      continue\r\n",
        "    L = Line(Plist[i], Plist[j])\r\n",
        "    Pmap[L] = [PlistName[i], PlistName[j]]\r\n",
        "    for k in range(len(Plist)):\r\n",
        "      if k == j or k == i:\r\n",
        "        continue\r\n",
        "      if Point3D.are_collinear(Plist[i], Plist[j], Plist[k]):\r\n",
        "        Pmap[L].append(PlistName[k])\r\n",
        "\r\n",
        "for x in Pmap:\r\n",
        "  if len(Pmap[x]) >= 3:\r\n",
        "    print(Pmap[x][0], Pmap[x][1], \":\", sep='')\r\n",
        "    print(*Pmap[x])\r\n",
        "\r\n",
        "    "
      ],
      "execution_count": null,
      "outputs": [
        {
          "output_type": "stream",
          "text": [
            "AB:\n",
            "A B F\n",
            "AF:\n",
            "A F B\n",
            "BA:\n",
            "B A F\n",
            "BF:\n",
            "B F A\n",
            "FA:\n",
            "F A B\n",
            "FB:\n",
            "F B A\n"
          ],
          "name": "stdout"
        }
      ]
    },
    {
      "cell_type": "code",
      "metadata": {
        "id": "SbHDbxJBQqPS"
      },
      "source": [
        ""
      ],
      "execution_count": null,
      "outputs": []
    },
    {
      "cell_type": "markdown",
      "metadata": {
        "id": "rUvW9sFh8ill"
      },
      "source": [
        "### Индивидуальное задание\n",
        "\n",
        "Даны точки: $A(3, 2, 1)$,  $B(2, -3, 1)$, $C(0, -4, 6)$, $D(4, 7, 1)$, $F(1, -8, 1)$.\n",
        "\n",
        "Составить список lines_list, состоящий из  tuple из троек прямых, каждая из которых проходит через две (или более) заданные точки, причем все прямые пересекаются в одной точке. Совпадающие прямые не учитывать.\n",
        "## Вариант 8 \n",
        "Точки: B(5, 2, 10), H(13, 9, 15), K(1, 0, 6), M(9, 7, 11) и V (7, 9/2, 21/2).\n",
        "\n",
        "Даны пять различных точек в пространстве. Составить список lines_list,\n",
        "состоящий из tuple из троек прямых, каждая из которых проходит через две (или более) заданные точки, причем все прямые пересекаются в\n",
        "одной точке. Совпадающие прямые не учитывать."
      ]
    },
    {
      "cell_type": "code",
      "metadata": {
        "id": "JIgFwXqI8ilm",
        "colab": {
          "base_uri": "https://localhost:8080/",
          "height": 466
        },
        "outputId": "ab0b73ac-c495-4d37-9c6a-f0467efa03f3"
      },
      "source": [
        "B = Point(5, 2, 10)\n",
        "H = Point(13, 9, 15)\n",
        "K = Point(1, 0, 6)\n",
        "M = Point(9, 7, 11)\n",
        "V = Point(7, 9/2, 21/2)\n",
        "\n",
        "a = Line(B, H)\n",
        "plist = [B, H, K, M, V]\n",
        "lines_list = []\n",
        "n = len(plist)\n",
        "lines = []\n",
        "lines_support = []\n",
        "for i in range(n):\n",
        "  for j in range(i + 1, n):\n",
        "    p1 = plist[i]\n",
        "    p2 = plist[j]\n",
        "    ok = True\n",
        "    for p3 in lines_support:\n",
        "      if (Point3D.are_collinear(p1, p2, p3[0], p3[1])):\n",
        "        ok = False\n",
        "        break\n",
        "    if ok:\n",
        "      lines.append(Line(p1, p2))\n",
        "      lines_support.append([p1, p2])\n",
        "\n",
        "\n",
        "\n",
        "display(\"Все уникальные прямые:\", *lines, '----------------')\n",
        "n = len(lines)\n",
        "for i in range(n):\n",
        "  for j in range(i + 1, n):\n",
        "    for k in range(j + 1, n):\n",
        "      l1 = lines[i]\n",
        "      l2 = lines[j]\n",
        "      l3 = lines[k]\n",
        "      if Line.are_concurrent(l1, l2, l3):\n",
        "        lines_list.append((l1,l2,l3))\n",
        "\n",
        "\n",
        "\n",
        "display(\"Все тройки прямых:\")\n",
        "for x in lines_list:\n",
        "  display(*x, \"-------\")\n",
        "\n",
        "display(len(lines_list))"
      ],
      "execution_count": null,
      "outputs": [
        {
          "output_type": "display_data",
          "data": {
            "application/vnd.google.colaboratory.intrinsic+json": {
              "type": "string"
            },
            "text/plain": [
              "'Все уникальные прямые:'"
            ]
          },
          "metadata": {
            "tags": []
          }
        },
        {
          "output_type": "display_data",
          "data": {
            "text/plain": [
              "Line3D(Point3D(5, 2, 10), Point3D(13, 9, 15))"
            ]
          },
          "metadata": {
            "tags": []
          }
        },
        {
          "output_type": "display_data",
          "data": {
            "text/plain": [
              "Line3D(Point3D(5, 2, 10), Point3D(1, 0, 6))"
            ]
          },
          "metadata": {
            "tags": []
          }
        },
        {
          "output_type": "display_data",
          "data": {
            "text/plain": [
              "Line3D(Point3D(5, 2, 10), Point3D(9, 7, 11))"
            ]
          },
          "metadata": {
            "tags": []
          }
        },
        {
          "output_type": "display_data",
          "data": {
            "text/plain": [
              "Line3D(Point3D(13, 9, 15), Point3D(1, 0, 6))"
            ]
          },
          "metadata": {
            "tags": []
          }
        },
        {
          "output_type": "display_data",
          "data": {
            "text/plain": [
              "Line3D(Point3D(13, 9, 15), Point3D(9, 7, 11))"
            ]
          },
          "metadata": {
            "tags": []
          }
        },
        {
          "output_type": "display_data",
          "data": {
            "text/plain": [
              "Line3D(Point3D(1, 0, 6), Point3D(9, 7, 11))"
            ]
          },
          "metadata": {
            "tags": []
          }
        },
        {
          "output_type": "display_data",
          "data": {
            "application/vnd.google.colaboratory.intrinsic+json": {
              "type": "string"
            },
            "text/plain": [
              "'----------------'"
            ]
          },
          "metadata": {
            "tags": []
          }
        },
        {
          "output_type": "display_data",
          "data": {
            "application/vnd.google.colaboratory.intrinsic+json": {
              "type": "string"
            },
            "text/plain": [
              "'Все тройки прямых:'"
            ]
          },
          "metadata": {
            "tags": []
          }
        },
        {
          "output_type": "display_data",
          "data": {
            "text/plain": [
              "Line3D(Point3D(5, 2, 10), Point3D(13, 9, 15))"
            ]
          },
          "metadata": {
            "tags": []
          }
        },
        {
          "output_type": "display_data",
          "data": {
            "text/plain": [
              "Line3D(Point3D(5, 2, 10), Point3D(1, 0, 6))"
            ]
          },
          "metadata": {
            "tags": []
          }
        },
        {
          "output_type": "display_data",
          "data": {
            "text/plain": [
              "Line3D(Point3D(5, 2, 10), Point3D(9, 7, 11))"
            ]
          },
          "metadata": {
            "tags": []
          }
        },
        {
          "output_type": "display_data",
          "data": {
            "application/vnd.google.colaboratory.intrinsic+json": {
              "type": "string"
            },
            "text/plain": [
              "'-------'"
            ]
          },
          "metadata": {
            "tags": []
          }
        },
        {
          "output_type": "display_data",
          "data": {
            "text/plain": [
              "Line3D(Point3D(5, 2, 10), Point3D(13, 9, 15))"
            ]
          },
          "metadata": {
            "tags": []
          }
        },
        {
          "output_type": "display_data",
          "data": {
            "text/plain": [
              "Line3D(Point3D(13, 9, 15), Point3D(1, 0, 6))"
            ]
          },
          "metadata": {
            "tags": []
          }
        },
        {
          "output_type": "display_data",
          "data": {
            "text/plain": [
              "Line3D(Point3D(13, 9, 15), Point3D(9, 7, 11))"
            ]
          },
          "metadata": {
            "tags": []
          }
        },
        {
          "output_type": "display_data",
          "data": {
            "application/vnd.google.colaboratory.intrinsic+json": {
              "type": "string"
            },
            "text/plain": [
              "'-------'"
            ]
          },
          "metadata": {
            "tags": []
          }
        },
        {
          "output_type": "display_data",
          "data": {
            "text/plain": [
              "Line3D(Point3D(5, 2, 10), Point3D(1, 0, 6))"
            ]
          },
          "metadata": {
            "tags": []
          }
        },
        {
          "output_type": "display_data",
          "data": {
            "text/plain": [
              "Line3D(Point3D(13, 9, 15), Point3D(1, 0, 6))"
            ]
          },
          "metadata": {
            "tags": []
          }
        },
        {
          "output_type": "display_data",
          "data": {
            "text/plain": [
              "Line3D(Point3D(1, 0, 6), Point3D(9, 7, 11))"
            ]
          },
          "metadata": {
            "tags": []
          }
        },
        {
          "output_type": "display_data",
          "data": {
            "application/vnd.google.colaboratory.intrinsic+json": {
              "type": "string"
            },
            "text/plain": [
              "'-------'"
            ]
          },
          "metadata": {
            "tags": []
          }
        },
        {
          "output_type": "display_data",
          "data": {
            "text/plain": [
              "Line3D(Point3D(5, 2, 10), Point3D(9, 7, 11))"
            ]
          },
          "metadata": {
            "tags": []
          }
        },
        {
          "output_type": "display_data",
          "data": {
            "text/plain": [
              "Line3D(Point3D(13, 9, 15), Point3D(9, 7, 11))"
            ]
          },
          "metadata": {
            "tags": []
          }
        },
        {
          "output_type": "display_data",
          "data": {
            "text/plain": [
              "Line3D(Point3D(1, 0, 6), Point3D(9, 7, 11))"
            ]
          },
          "metadata": {
            "tags": []
          }
        },
        {
          "output_type": "display_data",
          "data": {
            "application/vnd.google.colaboratory.intrinsic+json": {
              "type": "string"
            },
            "text/plain": [
              "'-------'"
            ]
          },
          "metadata": {
            "tags": []
          }
        },
        {
          "output_type": "display_data",
          "data": {
            "text/plain": [
              "4"
            ]
          },
          "metadata": {
            "tags": []
          }
        }
      ]
    }
  ]
}