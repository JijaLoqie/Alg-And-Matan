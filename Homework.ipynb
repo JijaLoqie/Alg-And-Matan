{
  "nbformat": 4,
  "nbformat_minor": 0,
  "metadata": {
    "kernelspec": {
      "display_name": "Python 3",
      "language": "python",
      "name": "python3"
    },
    "language_info": {
      "codemirror_mode": {
        "name": "ipython",
        "version": 3
      },
      "file_extension": ".py",
      "mimetype": "text/x-python",
      "name": "python",
      "nbconvert_exporter": "python",
      "pygments_lexer": "ipython3",
      "version": "3.8.3"
    },
    "colab": {
      "name": "Homework.ipynb",
      "provenance": []
    }
  },
  "cells": [
    {
      "cell_type": "markdown",
      "metadata": {
        "id": "JCOoVHPv91nr"
      },
      "source": [
        "# Практическое занятие 1\n",
        "# Алгебра"
      ]
    },
    {
      "cell_type": "markdown",
      "metadata": {
        "id": "_triF8Xl91ny"
      },
      "source": [
        "https://docs.sympy.org/latest/tutorial/intro.html"
      ]
    },
    {
      "cell_type": "code",
      "metadata": {
        "id": "5n0vijTm91n0"
      },
      "source": [
        "#Вначале для простоты будем подключать модуль sympy целиком\n",
        "from sympy import *"
      ],
      "execution_count": null,
      "outputs": []
    },
    {
      "cell_type": "markdown",
      "metadata": {
        "id": "ypwq0rpk91n1"
      },
      "source": [
        "## Действия с числами, числовые выражения\n",
        "Об основных типах данных Python 3.8 читайте здесь:\n",
        "https://docs.python.org/3/reference/datamodel.html#index-19\n",
        "\n",
        "Сейчас нам понадобятся типы:\n",
        "\n",
        "int - целое число (насколько большим оно может быть, зависит только от объема доступной памяти)\n",
        "\n",
        "float - вещественное число (double precision floating point numbers)\n",
        "\n",
        "### Задание 1.\n",
        "Вычислите значение выражения\n",
        "$$\n",
        "3\\left(2^{4}+6\\sin\\frac{\\pi}{4}-5\\sqrt{2}\\right)\n",
        "$$"
      ]
    },
    {
      "cell_type": "code",
      "metadata": {
        "id": "7tAmNjE491n1",
        "outputId": "9d3ac102-0c29-4ce3-a70e-15c658919541"
      },
      "source": [
        "last = 2**4 + float(6*sin(pi/4) - 5*sqrt(2))\n",
        "print(last * 3)"
      ],
      "execution_count": null,
      "outputs": [
        {
          "output_type": "stream",
          "text": [
            "39.51471862576143\n"
          ],
          "name": "stdout"
        }
      ]
    },
    {
      "cell_type": "markdown",
      "metadata": {
        "id": "TIgGYEaA91n3"
      },
      "source": [
        "## Символы, символьные выражения\n",
        "Для аналитических преобразований в sympy используется класс Symbol\n",
        "https://docs.sympy.org/latest/modules/core.html?highlight=symbol#module-sympy.core.symbol\n",
        "В этом классе есть метод Symbol для создания одного символа.\n",
        "###  Задание 2.\n",
        "Создайте символ $t$ и составьте выражение $\\frac{\\sqrt{t}+t^3}{t-1}$"
      ]
    },
    {
      "cell_type": "code",
      "metadata": {
        "id": "KmsCrsYK91n3",
        "outputId": "740b2dfe-fb5b-4110-8cca-585a11ae7eb3"
      },
      "source": [
        "t = Symbol('t')\n",
        "chisl = sqrt(t) + t**3\n",
        "znam = t - 1\n",
        "ans = chisl/znam\n",
        "display(ans)"
      ],
      "execution_count": null,
      "outputs": [
        {
          "output_type": "execute_result",
          "data": {
            "text/latex": "$\\displaystyle \\frac{\\sqrt{t} + t^{3}}{t - 1}$",
            "text/plain": [
              "(sqrt(t) + t**3)/(t - 1)"
            ]
          },
          "metadata": {
            "tags": []
          },
          "execution_count": 3
        }
      ]
    },
    {
      "cell_type": "markdown",
      "metadata": {
        "id": "rQq3bsXq91n4"
      },
      "source": [
        "## Операции с символьными выражениями: expand,factor,collect\n",
        "#### expand \n",
        "используется для раскрытия скобок\n",
        "#### factor \n",
        "для разложения на множители\n",
        "#### collect \n",
        "для группировки по степеням переменной\n",
        "###  Задание 3.\n",
        "Упростите выражение\n",
        "$$\n",
        "\\frac{(u+v)^2-4uv}{u-v}+2v-1\n",
        "$$"
      ]
    },
    {
      "cell_type": "code",
      "metadata": {
        "id": "HHtsMKc391n4",
        "outputId": "591af3a9-78f8-42c5-a12a-114c5b52c9ec"
      },
      "source": [
        "u, v = symbols(\"u v\")\n",
        "ans = (factor(expand((u + v)**2) - 4 * u * v))/(u - v) + 2*v - 1\n",
        "display(ans)"
      ],
      "execution_count": null,
      "outputs": [
        {
          "output_type": "execute_result",
          "data": {
            "text/latex": "$\\displaystyle u + v - 1$",
            "text/plain": [
              "u + v - 1"
            ]
          },
          "metadata": {
            "tags": []
          },
          "execution_count": 4
        }
      ]
    },
    {
      "cell_type": "markdown",
      "metadata": {
        "id": "-nE0YnHU91n4"
      },
      "source": [
        "###  Задание 4.\n",
        "Раскройте скобки в выражении $(a_1+a_2+a_3)^3-(a_1-a_2)^2$"
      ]
    },
    {
      "cell_type": "code",
      "metadata": {
        "id": "3KcI5_BO91n5",
        "outputId": "ded2dbb3-03a9-4329-f794-e0da15ee59ac"
      },
      "source": [
        "a = symbols(\"a:4\")\n",
        "ans = expand((a[1] + a[2] + a[3])**3) - expand((a[1] - a[2])**2)\n",
        "display(ans)"
      ],
      "execution_count": null,
      "outputs": [
        {
          "output_type": "execute_result",
          "data": {
            "text/latex": "$\\displaystyle a_{1}^{3} + 3 a_{1}^{2} a_{2} + 3 a_{1}^{2} a_{3} - a_{1}^{2} + 3 a_{1} a_{2}^{2} + 6 a_{1} a_{2} a_{3} + 2 a_{1} a_{2} + 3 a_{1} a_{3}^{2} + a_{2}^{3} + 3 a_{2}^{2} a_{3} - a_{2}^{2} + 3 a_{2} a_{3}^{2} + a_{3}^{3}$",
            "text/plain": [
              "a1**3 + 3*a1**2*a2 + 3*a1**2*a3 - a1**2 + 3*a1*a2**2 + 6*a1*a2*a3 + 2*a1*a2 + 3*a1*a3**2 + a2**3 + 3*a2**2*a3 - a2**2 + 3*a2*a3**2 + a3**3"
            ]
          },
          "metadata": {
            "tags": []
          },
          "execution_count": 5
        }
      ]
    },
    {
      "cell_type": "markdown",
      "metadata": {
        "id": "qLGEMuxY91n5"
      },
      "source": [
        "###  Задание 5.\n",
        "Разложите на множители\n",
        "$2u^4+3u^3v-2u^2v^2-2u^2v-3uv^2+2v^3$"
      ]
    },
    {
      "cell_type": "code",
      "metadata": {
        "id": "JbsP7KHI91n6",
        "outputId": "92718fc7-8c4e-4ef9-b7e9-fc427b8e151a"
      },
      "source": [
        "ans = 2 * u ** 4 + 3 * v * u ** 3 - 2 * u**2 * v**2 - 2 * u ** 2 * v - 3 * u * v ** 2 + 2 * v ** 3\n",
        "display(factor(ans))"
      ],
      "execution_count": null,
      "outputs": [
        {
          "output_type": "execute_result",
          "data": {
            "text/latex": "$\\displaystyle \\left(u + 2 v\\right) \\left(2 u - v\\right) \\left(u^{2} - v\\right)$",
            "text/plain": [
              "(u + 2*v)*(2*u - v)*(u**2 - v)"
            ]
          },
          "metadata": {
            "tags": []
          },
          "execution_count": 6
        }
      ]
    },
    {
      "cell_type": "markdown",
      "metadata": {
        "id": "Aq8TvjS891n6"
      },
      "source": [
        "###  Задание 6.\n",
        "Сгруппируйте выражение из Задания 5 по степеням $u$."
      ]
    },
    {
      "cell_type": "code",
      "metadata": {
        "id": "KKmIeuf091n6",
        "outputId": "1155311f-9462-4ef8-fc5d-7dcdd8dda418"
      },
      "source": [
        "ans = 2 * u ** 4 + 3 * v * u ** 3 - 2 * u**2 * v**2 - 2 * u ** 2 * v - 3 * u * v ** 2 + 2 * v ** 3\n",
        "display(collect(ans, u))"
      ],
      "execution_count": null,
      "outputs": [
        {
          "output_type": "execute_result",
          "data": {
            "text/latex": "$\\displaystyle 2 u^{4} + 3 u^{3} v + u^{2} \\left(- 2 v^{2} - 2 v\\right) - 3 u v^{2} + 2 v^{3}$",
            "text/plain": [
              "2*u**4 + 3*u**3*v + u**2*(-2*v**2 - 2*v) - 3*u*v**2 + 2*v**3"
            ]
          },
          "metadata": {
            "tags": []
          },
          "execution_count": 7
        }
      ]
    },
    {
      "cell_type": "markdown",
      "metadata": {
        "id": "W-LUoljr91n7"
      },
      "source": [
        "## Списки и кортежи\n",
        "Нам понадобятся два итерируемых типа\n",
        "\n",
        "#### списки list\n",
        "изменяемый тип\n",
        "#### кортежи tuple\n",
        "неизменяемый тип\n",
        "\n",
        "### Задание 7\n",
        "Создайте список $Powers$ из трех кортежей, состоящих из символов $x$, $y$ и $z$ в степени, равной номеру кортежа в списке."
      ]
    },
    {
      "cell_type": "code",
      "metadata": {
        "id": "plztcONW91n7",
        "outputId": "3a543a1a-c634-4920-cd62-9736c5071f4e"
      },
      "source": [
        "x, y, z = symbols(\"x y z\")\n",
        "Powers = [(x,y,z), (x**2,y**2,z**2),(x**3,y**3,z**3)]\n",
        "display(Powers)"
      ],
      "execution_count": null,
      "outputs": [
        {
          "output_type": "display_data",
          "data": {
            "text/plain": [
              "[(x, y, z), (x**2, y**2, z**2), (x**3, y**3, z**3)]"
            ]
          },
          "metadata": {
            "tags": []
          }
        }
      ]
    },
    {
      "cell_type": "markdown",
      "metadata": {
        "id": "Ykmwf4zX91n7"
      },
      "source": [
        "### Задание 8\n",
        "В списке Powers Задания 7 заменить $(x^2,y^2,z^2)$ на (0,0,0)."
      ]
    },
    {
      "cell_type": "code",
      "metadata": {
        "id": "JTYGj6VV91n8",
        "outputId": "6aa0dda9-be13-4421-b0b6-658857145405"
      },
      "source": [
        "Powers[1] = (1,1,1)\n",
        "display(Powers)"
      ],
      "execution_count": null,
      "outputs": [
        {
          "output_type": "execute_result",
          "data": {
            "text/plain": [
              "[(x, y, z), (1, 1, 1), (x**3, y**3, z**3)]"
            ]
          },
          "metadata": {
            "tags": []
          },
          "execution_count": 5
        }
      ]
    },
    {
      "cell_type": "markdown",
      "metadata": {
        "id": "L1UIavV-91n8"
      },
      "source": [
        "## Матрицы\n",
        "### Задание 9\n",
        "Составить матрицу  $A_{3\\times 4}$ из чисел вида $3k+1$, $k=1,2,...$:\n",
        "$$\n",
        "A=\n",
        "\\left(\n",
        "\\begin{matrix}\n",
        "4& 7& 10& 13\\\\\n",
        "16& 19& 22& 25\\\\\n",
        "28& 31& 34& 37\n",
        "\\end{matrix}\n",
        "\\right)\n",
        "$$"
      ]
    },
    {
      "cell_type": "code",
      "metadata": {
        "id": "SAFg9wWL91n8",
        "outputId": "d71cd469-5359-4c35-dadf-8a00b5469dfe"
      },
      "source": [
        "A = zeros(3,4)\n",
        "plus = 4\n",
        "for i in range(3):\n",
        "  for j in range(4):\n",
        "    A[i, j] += plus\n",
        "    plus += 3\n",
        "display(A)"
      ],
      "execution_count": null,
      "outputs": [
        {
          "output_type": "execute_result",
          "data": {
            "text/latex": "$\\displaystyle \\left[\\begin{matrix}4 & 7 & 10 & 13\\\\16 & 19 & 22 & 25\\\\28 & 31 & 34 & 37\\end{matrix}\\right]$",
            "text/plain": [
              "Matrix([\n",
              "[ 4,  7, 10, 13],\n",
              "[16, 19, 22, 25],\n",
              "[28, 31, 34, 37]])"
            ]
          },
          "metadata": {
            "tags": []
          },
          "execution_count": 6
        }
      ]
    },
    {
      "cell_type": "markdown",
      "metadata": {
        "id": "A-6kL--P91n9"
      },
      "source": [
        "### Задание 10\n",
        "В матрице А задания 9 удалить вторую строку и вставить третий столбец между первым и вторым (сам третий столбец не удалять!), должно получиться\n",
        "$$\n",
        "A=\n",
        "\\left(\n",
        "\\begin{matrix}\n",
        "4& 10& 7& 10& 13\\\\\n",
        "28& 34& 31& 34& 37\n",
        "\\end{matrix}\n",
        "\\right)\n",
        "$$"
      ]
    },
    {
      "cell_type": "code",
      "metadata": {
        "id": "C34JFkal91n9",
        "outputId": "a39b3fe5-06d0-4c6d-8b9c-e4ad0681df57"
      },
      "source": [
        "A.row_del(1)\n",
        "A = A.col_insert(1, A.col(2))\n",
        "display(A)"
      ],
      "execution_count": null,
      "outputs": [
        {
          "output_type": "execute_result",
          "data": {
            "text/latex": "$\\displaystyle \\left[\\begin{matrix}4 & 10 & 7 & 10 & 13\\\\28 & 34 & 31 & 34 & 37\\end{matrix}\\right]$",
            "text/plain": [
              "Matrix([\n",
              "[ 4, 10,  7, 10, 13],\n",
              "[28, 34, 31, 34, 37]])"
            ]
          },
          "metadata": {
            "tags": []
          },
          "execution_count": 7
        }
      ]
    },
    {
      "cell_type": "markdown",
      "metadata": {
        "id": "54qOI5u891n9"
      },
      "source": [
        "### Индивидуальное задание"
      ]
    },
    {
      "cell_type": "code",
      "metadata": {
        "id": "N1dK2EB891n9",
        "outputId": "96810df1-8c89-460d-bbc3-f50754821ee5"
      },
      "source": [
        "A = Matrix([\n",
        "    [-3, -2, 1, 7, 5],\n",
        "    [-7, -1, 4, 8, -3],\n",
        "    [2, -6, 3, -1, 4]\n",
        "])\n",
        "B = Matrix([[-69],\n",
        "         [-26],\n",
        "         [13]])\n",
        "X = Matrix([[-3],\n",
        "           [-8],\n",
        "           [-3],\n",
        "           [-8],\n",
        "           [-7]])\n",
        "display('A:', A, 'X: ', X, 'B:', B)\n",
        "display('A*X:', A*X,'== B', A*X - B)\n",
        "\n"
      ],
      "execution_count": null,
      "outputs": [
        {
          "output_type": "display_data",
          "data": {
            "text/plain": [
              "'A:'"
            ]
          },
          "metadata": {
            "tags": []
          }
        },
        {
          "output_type": "display_data",
          "data": {
            "text/latex": "$\\displaystyle \\left[\\begin{matrix}-3 & -2 & 1 & 7 & 5\\\\-7 & -1 & 4 & 8 & -3\\\\2 & -6 & 3 & -1 & 4\\end{matrix}\\right]$",
            "text/plain": [
              "Matrix([\n",
              "[-3, -2, 1,  7,  5],\n",
              "[-7, -1, 4,  8, -3],\n",
              "[ 2, -6, 3, -1,  4]])"
            ]
          },
          "metadata": {
            "tags": []
          }
        },
        {
          "output_type": "display_data",
          "data": {
            "text/plain": [
              "'X: '"
            ]
          },
          "metadata": {
            "tags": []
          }
        },
        {
          "output_type": "display_data",
          "data": {
            "text/latex": "$\\displaystyle \\left[\\begin{matrix}-3\\\\-8\\\\-3\\\\-8\\\\-7\\end{matrix}\\right]$",
            "text/plain": [
              "Matrix([\n",
              "[-3],\n",
              "[-8],\n",
              "[-3],\n",
              "[-8],\n",
              "[-7]])"
            ]
          },
          "metadata": {
            "tags": []
          }
        },
        {
          "output_type": "display_data",
          "data": {
            "text/plain": [
              "'B:'"
            ]
          },
          "metadata": {
            "tags": []
          }
        },
        {
          "output_type": "display_data",
          "data": {
            "text/latex": "$\\displaystyle \\left[\\begin{matrix}-69\\\\-26\\\\13\\end{matrix}\\right]$",
            "text/plain": [
              "Matrix([\n",
              "[-69],\n",
              "[-26],\n",
              "[ 13]])"
            ]
          },
          "metadata": {
            "tags": []
          }
        },
        {
          "output_type": "display_data",
          "data": {
            "text/plain": [
              "'A*X:'"
            ]
          },
          "metadata": {
            "tags": []
          }
        },
        {
          "output_type": "display_data",
          "data": {
            "text/latex": "$\\displaystyle \\left[\\begin{matrix}-69\\\\-26\\\\13\\end{matrix}\\right]$",
            "text/plain": [
              "Matrix([\n",
              "[-69],\n",
              "[-26],\n",
              "[ 13]])"
            ]
          },
          "metadata": {
            "tags": []
          }
        },
        {
          "output_type": "display_data",
          "data": {
            "text/plain": [
              "'== B'"
            ]
          },
          "metadata": {
            "tags": []
          }
        },
        {
          "output_type": "display_data",
          "data": {
            "text/latex": "$\\displaystyle \\left[\\begin{matrix}0\\\\0\\\\0\\end{matrix}\\right]$",
            "text/plain": [
              "Matrix([\n",
              "[0],\n",
              "[0],\n",
              "[0]])"
            ]
          },
          "metadata": {
            "tags": []
          }
        }
      ]
    },
    {
      "cell_type": "code",
      "metadata": {
        "id": "JFdqhJJl91n-"
      },
      "source": [
        ""
      ],
      "execution_count": null,
      "outputs": []
    }
  ]
}